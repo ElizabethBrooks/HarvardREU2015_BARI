{
 "cells": [
  {
   "cell_type": "code",
   "execution_count": null,
   "metadata": {
    "collapsed": true
   },
   "outputs": [],
   "source": [
    "import time\n",
    "import csv\n",
    "import numpy as np\n",
    "import matplotlib.pyplot as plt\n",
    "import math"
   ]
  },
  {
   "cell_type": "markdown",
   "metadata": {},
   "source": [
    "## Imports for the program (Original program by Josh Lozjim and edited by Hayden Fuss, this version by Jeremy McKenzie. Ostensibly.)"
   ]
  },
  {
   "cell_type": "code",
   "execution_count": null,
   "metadata": {
    "collapsed": true
   },
   "outputs": [],
   "source": [
    "emer_time_fmt = \"%m/%d/%Y %H:%M\"\n",
    "\n",
    "years = ('2012', '2013')\n",
    "\n",
    "year_data = {}\n"
   ]
  },
  {
   "cell_type": "markdown",
   "metadata": {},
   "source": [
    "## Declaration of important variables\n",
    "    emer_time_fmt declares the format for the time data\n",
    "    year_data declares an empty has, and the for loop creates further hashes (think: vectors) assigned to the keys of '2012' and '2013'"
   ]
  },
  {
   "cell_type": "code",
   "execution_count": null,
   "metadata": {
    "collapsed": true
   },
   "outputs": [],
   "source": [
    "for y in years:\n",
    "    year_data[y] = {}   \n",
    "    with open('2010-14 Full CAD, Jan-Jun ' + y + '.csv') as csvfile:\n",
    "        emergency = csv.DictReader(csvfile)\n",
    "        # for all the 911 calls the reader finds\n",
    "        for e in emergency:\n",
    "            date = time.strptime(e['ENTRY_DT'], emer_time_fmt)\n",
    "            if not date.tm_mon in year_data[y].keys():\n",
    "                year_data[y][date.tm_mon] = 1\n",
    "            else:\n",
    "                year_data[y][date.tm_mon] += 1"
   ]
  },
  {
   "cell_type": "markdown",
   "metadata": {},
   "source": [
    "This portion of the program builds the data list, organized by month, in a list called emergency. It runs through the list, pulling dates from the csv file, and then counts the number of times any particular month (and thereby the amount of calls in that month) comes up. If a month has not previously been encountered, it is added to the list and given a count of one. Otherwise, it's incremented by one."
   ]
  },
  {
   "cell_type": "code",
   "execution_count": null,
   "metadata": {
    "collapsed": true
   },
   "outputs": [],
   "source": [
    "ind=np.arange(len(year_data['2012']))\n",
    "width=.35\n",
    "\n",
    "counts_2012 = []\n",
    "\n",
    "for month in sorted(year_data['2012']):\n",
    "    counts_2012.append(year_data['2012'][month])\n",
    "    \n",
    "counts_2013 = []\n",
    "\n",
    "for month in sorted(year_data['2013']):\n",
    "    counts_2013.append(year_data['2013'][month])\n",
    "\n",
    "maxCount = int(math.ceil(max(counts_2012 + counts_2013) / 1000.0)) * 1000"
   ]
  },
  {
   "cell_type": "markdown",
   "metadata": {},
   "source": [
    "This section adjusts the data to plot-friendly tuples (again, like vectors) while the last line ensures that the bar will not be overrun by the data. It does this by finding the largest humber in either list, divides that by decimal 1000, rounds that up and converts to an integer, and mutiplies that by 1000."
   ]
  },
  {
   "cell_type": "code",
   "execution_count": null,
   "metadata": {
    "collapsed": true
   },
   "outputs": [],
   "source": [
    "\n",
    "fig = plt.figure()\n",
    "ax = fig.add_subplot(111)\n",
    "\n",
    "rects1 = ax.bar(ind, counts_2012, width, color='r')\n",
    "\n",
    "rects2 = ax.bar(width+ind, counts_2013, width, color='y')\n",
    "\n",
    "ax.set_xlim(-width, len(ind) + width)\n",
    "ax.set_ylim(0, maxCount)\n",
    "ax.set_ylabel('Number of 911 Reports')\n",
    "ax.set_title('911 Call Volume per Month')\n",
    "ax.set_xticks(ind+width)\n",
    "tickNames = ax.set_xticklabels(('Jan', 'Feb', 'March', 'April', 'May', 'June'))\n",
    "plt.setp(tickNames, rotation=45, fontsize=10)\n",
    "\n",
    "ax.legend((rects1[0], rects2[0]), years)\n",
    "\n",
    "def autolabel(rects):\n",
    "# attach some text labels\n",
    "for rect in rects:\n",
    "    height = rect.get_height()\n",
    "    ax.text(rect.get_x()+rect.get_width()/2., 1.05*height, '%d'%int(height),\n",
    "        ha='center', va='bottom')\n",
    "\n",
    "#autolabel(rects1)\n",
    "#autolabel(rects2)\n",
    "\n",
    "plt.savefig(\"911_per_month.png\", dpi=96)\n",
    "\n",
    "###################################################"
   ]
  },
  {
   "cell_type": "markdown",
   "metadata": {},
   "source": [
    "This is the section that organizes the bar graph itself.\n",
    "The last function puts a label with the exact number on the top of the bar graph"
   ]
  }
 ],
 "metadata": {
  "kernelspec": {
   "display_name": "Python 2",
   "language": "python",
   "name": "python2"
  },
  "language_info": {
   "codemirror_mode": {
    "name": "ipython",
    "version": 2
   },
   "file_extension": ".py",
   "mimetype": "text/x-python",
   "name": "python",
   "nbconvert_exporter": "python",
   "pygments_lexer": "ipython2",
   "version": "2.7.9"
  }
 },
 "nbformat": 4,
 "nbformat_minor": 0
}
