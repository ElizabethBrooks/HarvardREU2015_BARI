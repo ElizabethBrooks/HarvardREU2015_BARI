{
 "cells": [
  {
   "cell_type": "markdown",
   "metadata": {},
   "source": [
    "## Imports for the program (Original program by Josh Lozjim and edited by Hayden Fuss, this version by Jeremy McKenzie)"
   ]
  },
  {
   "cell_type": "code",
   "execution_count": 46,
   "metadata": {
    "collapsed": false
   },
   "outputs": [],
   "source": [
    "%matplotlib inline\n",
    "import matplotlib\n",
    "import time\n",
    "import csv\n",
    "import numpy as np\n",
    "import matplotlib.pyplot as plt\n",
    "import math\n",
    "import sys"
   ]
  },
  {
   "cell_type": "markdown",
   "metadata": {},
   "source": [
    "time_fmt declares the format for the time data\n",
    "year_data declares an empty hash, and the for loop creates further hashes (think: vectors) assigned to the keys of '2012' and '2013'"
   ]
  },
  {
   "cell_type": "code",
   "execution_count": null,
   "metadata": {
    "collapsed": false
   },
   "outputs": [
    {
     "name": "stdout",
     "output_type": "stream",
     "text": [
      "Enter the file name to read data from: 911_medical_2012_2013.csv\n",
      "911_medical_2012_2013.csv\n"
     ]
    }
   ],
   "source": [
    "time_fmt = \"%m/%d/%Y %H:%M\"\n",
    "\n",
    "def getTimeString(currentHour):\n",
    "    timeStr = \"\"\n",
    "    if currentHour != 12 and currentHour != 24:\n",
    "        timeStr += str(currentHour%12)\n",
    "    else:\n",
    "        timeStr += str(12)\n",
    "    timeStr += \":00\"\n",
    "    if currentHour in range (0,12) or currentHour == 24:\n",
    "        timeStr += ' AM'\n",
    "    else:\n",
    "        timeStr += ' PM'\n",
    "    return timeStr\n",
    "\n",
    "years = ('2012', '2013')\n",
    "\n",
    "year_data = {}\n",
    "filename = raw_input(\"Enter the file name to read data from: \")\n",
    "#filename = sys.stdin.readline()\n",
    "print filename\n",
    "outputfile = raw_input(\"Enter the file name to write data to: \")\n",
    "#outputfile = sys.stdin.readline()\n",
    "print outputfile\n",
    "filename = filename.rstrip(\"\\n\")\n",
    "outputfile = outputfile.rstrip(\"\\n\")"
   ]
  },
  {
   "cell_type": "markdown",
   "metadata": {},
   "source": [
    "This portion of the program builds the data list, organized by month, in a list called emergency. It runs through the list, pulling dates from the csv file, and then counts the number of times any particular month (and thereby the amount of calls in that month) comes up. If a month has not previously been encountered, it is added to the list and given a count of one. Otherwise, it's incremented by one."
   ]
  },
  {
   "cell_type": "code",
   "execution_count": null,
   "metadata": {
    "collapsed": false
   },
   "outputs": [],
   "source": [
    "# for y in years:\n",
    "    # year_data[y] = {}   \n",
    "with open(filename) as csvfile:\n",
    "    threeOne = csv.DictReader(csvfile)\n",
    "        # for all the 911 calls the reader finds\n",
    "    for e in threeOne:\n",
    "        date = time.strptime(e['ENTRY_DT'], time_fmt) # converts string version of date into a date object\n",
    "        y = date.tm_year\n",
    "        hour = date.tm_hour\n",
    "        if not y in year_data.keys():\n",
    "            year_data[y] = {}        \n",
    "        if date.tm_mon == 4:\n",
    "            if (y == 2012 and date.tm_mday == 16) or (y == 2013 and date.tm_mday == 15): \n",
    "                # looking for 4/16/12 & 4/15/13 -- marathon monday 2012 & 2013\n",
    "                if hour not in year_data[y].keys():\n",
    "                    year_data[y][hour] = 1\n",
    "                else:\n",
    "                    year_data[y][hour] += 1\n",
    "\n",
    "for h in year_data[2012].keys():\n",
    "    if not h in year_data[2013].keys():\n",
    "        year_data[2013][h] = 0\n",
    "        \n",
    "for h in year_data[2013].keys():\n",
    "    if not h in year_data[2012].keys():\n",
    "        year_data[2012][h] = 0\n",
    "        \n",
    "        \n",
    "for y in (2012, 2013):\n",
    "    for h in range(0,24):\n",
    "        if not h in year_data[y].keys():\n",
    "            year_data[y][h] = 0\n",
    "    for h in sorted(year_data[y]):\n",
    "        if h != 0:\n",
    "            year_data[y][h] += year_data[y][h-1]"
   ]
  },
  {
   "cell_type": "markdown",
   "metadata": {},
   "source": [
    "This section adjusts the data to plot-friendly tuples (again, like vectors) while the last line ensures that the bar will not be overrun by the data. It does this by finding the largest humber in either list, divides that by decimal 1000, rounds that up and converts to an integer, and mutiplies that by 1000."
   ]
  },
  {
   "cell_type": "code",
   "execution_count": null,
   "metadata": {
    "collapsed": false
   },
   "outputs": [],
   "source": [
    "ind=np.arange(len(year_data[2012]))\n",
    "width=.35\n",
    "\n",
    "tick_labels = []\n",
    "\n",
    "counts_2012 = []\n",
    "\n",
    "for apr_h in sorted(year_data[2012]):\n",
    "    counts_2012.append(year_data[2012][apr_h])\n",
    "    tick_labels.append(getTimeString(apr_h+1))\n",
    "    \n",
    "counts_2013 = []\n",
    "\n",
    "for apr_day in sorted(year_data[2013]):\n",
    "    counts_2013.append(year_data[2013][apr_day])\n",
    "\n",
    "maxCount = int(math.ceil(max(counts_2012 + counts_2013) / 100.0)) * 100"
   ]
  },
  {
   "cell_type": "markdown",
   "metadata": {},
   "source": [
    "This is the section that organizes the bar graph itself.\n",
    "The last function puts a label with the exact number on the top of the bar graph"
   ]
  },
  {
   "cell_type": "code",
   "execution_count": null,
   "metadata": {
    "collapsed": false,
    "scrolled": false
   },
   "outputs": [],
   "source": [
    "\n",
    "fig = plt.figure(figsize=(12,8))\n",
    "ax = fig.add_subplot(111)\n",
    "\n",
    "rects1 = ax.bar(ind, counts_2012, width, color='r')\n",
    "\n",
    "rects2 = ax.bar(width+ind, counts_2013, width, color='y')\n",
    "\n",
    "ax.set_xlim(-width, len(ind) + width)\n",
    "ax.set_ylim(0, maxCount)\n",
    "ax.set_ylabel('Number of 911 Calls')\n",
    "ax.set_title('911 Incremental Call Volume by Hour on Marathon Monday')\n",
    "ax.set_xticks(ind+width)\n",
    "\n",
    "tickNames = ax.set_xticklabels(tick_labels)\n",
    "plt.setp(tickNames, rotation=45, fontsize=10)\n",
    "\n",
    "ax.legend((rects1[0], rects2[0]), years)\n",
    "\n",
    "def autolabel(rects):\n",
    "# attach some text labels\n",
    "    for rect in rects:\n",
    "        height = rect.get_height()\n",
    "        ax.text(rect.get_x()+rect.get_width()/2., 1.05*height, '%d'%int(height),\n",
    "            ha='center', va='bottom')\n",
    "\n",
    "#autolabel(rects1)\n",
    "#autolabel(rects2)\n",
    "\n",
    "plt.savefig(outputfile, dpi=96)\n",
    "plt.show()"
   ]
  }
 ],
 "metadata": {
  "kernelspec": {
   "display_name": "Python 2",
   "language": "python",
   "name": "python2"
  },
  "language_info": {
   "codemirror_mode": {
    "name": "ipython",
    "version": 2
   },
   "file_extension": ".py",
   "mimetype": "text/x-python",
   "name": "python",
   "nbconvert_exporter": "python",
   "pygments_lexer": "ipython2",
   "version": "2.7.9"
  }
 },
 "nbformat": 4,
 "nbformat_minor": 0
}
