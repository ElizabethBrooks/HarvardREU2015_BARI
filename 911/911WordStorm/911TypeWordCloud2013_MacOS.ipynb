{
 "cells": [
  {
   "cell_type": "markdown",
   "metadata": {},
   "source": [
    "## 911 Call Type Word Cloud (Mac OS) ##\n",
    "\n",
    "A program for generating a word cloud of 911 call types and their frequency in 911 reports from Jan-Jun 2013. Need to re-access csv files to improve type frequency check.\n",
    "\n",
    "The program may be ammended to create any number of word clouds given an input txt file. A csv file may be used as well, the relavent information from which is parsed and saved into a txt file for use by the word cloud function."
   ]
  },
  {
   "cell_type": "code",
   "execution_count": null,
   "metadata": {
    "collapsed": true
   },
   "outputs": [],
   "source": [
    "# Author: Elizabeth Brooks\n",
    "# Date Modified: 06/25/2015\n",
    "# Edited: Hayden Fuss\n",
    "\n",
    "# PreProcessor Directives\n",
    "%matplotlib inline\n",
    "import matplotlib\n",
    "import csv\n",
    "import matplotlib.pyplot as plt\n",
    "from wordcloud import WordCloud\n",
    "from scipy.misc import imread\n",
    "import re\n",
    "# Add parent directory to path for twc imports\n",
    "import os\n",
    "import sys\n",
    "sys.path.append(os.path.realpath('../'))\n",
    "import twitter_criteria as twc\n",
    "\n",
    "# Global field declarations\n",
    "twc.loadCriteria()\n",
    "keyword = twc.getKeywordRegex()\n",
    "twc.clearCriteria()\n",
    "\n",
    "# Function for generating a word cloud\n",
    "## Mac OS specific font path in arguments\n",
    "def typeWordCloud(file_path, mask_path=None, bg_color='white', num_words=150,\n",
    "                   font_path='sans-serif.ttf', out_path='type2013Cloud.png'):\n",
    "    # Read in the txt file set by the main method\n",
    "    text = open(file_path, 'r').read()\n",
    "    # Generate the word cloud based on the input arguments\n",
    "    wc = None\n",
    "    if mask_path:\n",
    "        # Use module to read the image file\n",
    "        mass_mask = imread(mask_path)\n",
    "        wc = WordCloud(maskPath=mass_mask, backgroundColor=bg_color, maxWords=num_words, \n",
    "                       fontPath=font_path).generate(text)\n",
    "    else:\n",
    "        wc = WordCloud(fontPath=font_path, maxWords=num_words,\n",
    "                       backgroundColor=bg_color).generate(text)\n",
    "    # Open a plot of the generated word cloud\n",
    "    wc.to_file(out_path)\n",
    "    plt.imshow(wc)\n",
    "    plt.axis(\"off\")\n",
    "    plt.show()\n",
    "# End tweetWordCloud\n",
    "## We can eventually move this to its own module\n"
   ]
  },
  {
   "cell_type": "markdown",
   "metadata": {},
   "source": [
    "The above function generates a word cloud based on words in the txt file created in the main method.\n",
    "For more info see: https://github.com/amueller/word_cloud"
   ]
  },
  {
   "cell_type": "code",
   "execution_count": null,
   "metadata": {
    "collapsed": true
   },
   "outputs": [],
   "source": [
    "# The main method\n",
    "def main():\n",
    "    # Set the output image file path\n",
    "    current_dir = os.getcwd()\n",
    "    filepath = current_dir + '/OutputTypes.txt'\n",
    "    # Create object for writting to a text file\n",
    "    typeFile = open(filepath, \"w\")\n",
    "    types = {}\n",
    "    # Iterate through the 911 csv by type\n",
    "    with open(current_dir + '2010-14 Full CAD, Jan-Jun 2013.csv') as csvfile:  \n",
    "        typeIt = csv.DictReader(csvfile)\n",
    "        # Retrieve the strings of types\n",
    "        for typeData in typeIt:\n",
    "            if not typeData['TYPE'] in types.keys():\n",
    "                types[typeData['TYPE']] = typeData['TYPE_DESC']\n",
    "            # Possibly use function to clean the type strings\n",
    "            # Could not find the 911 csv files localy to review type format\n",
    "            typeText = typeData['TYPE']\n",
    "    # Close the file obj\n",
    "    typeFile.close()  \n",
    "    # Use the defined function to create the type word cloud\n",
    "    typeWordCloud(filepath, current_dir)\n",
    "# End main\n",
    "\n",
    "# Run the script via the main method\n",
    "if __name__ == \"__main__\":\n",
    "    main()\n",
    "    \n",
    "# End script"
   ]
  },
  {
   "cell_type": "markdown",
   "metadata": {},
   "source": [
    "The method main() begins the script by writting to a master text file all of the types (and their frequencies) found with in the 911 reports csv file for the year 2013."
   ]
  }
 ],
 "metadata": {
  "kernelspec": {
   "display_name": "Python 2",
   "language": "python",
   "name": "python2"
  },
  "language_info": {
   "codemirror_mode": {
    "name": "ipython",
    "version": 2
   },
   "file_extension": ".py",
   "mimetype": "text/x-python",
   "name": "python",
   "nbconvert_exporter": "python",
   "pygments_lexer": "ipython2",
   "version": "2.7.9"
  }
 },
 "nbformat": 4,
 "nbformat_minor": 0
}
