{
 "cells": [
  {
   "cell_type": "markdown",
   "metadata": {},
   "source": [
    "## 911 Call Type Word Cloud ##\n",
    "\n",
    "A program for generating a word cloud of 911 call types and their frequency in 911 reports from Jan-Jun 2012 and 2013.\n",
    "\n",
    "The program may be used to create any number of word clouds given an input txt file. A csv file may be used as well, the relavent information from which is parsed and saved into a txt file for use by the word cloud function."
   ]
  },
  {
   "cell_type": "code",
   "execution_count": null,
   "metadata": {
    "collapsed": false
   },
   "outputs": [],
   "source": [
    "# Author: Elizabeth Brooks\n",
    "# Date Modified: 07/06/2015\n",
    "# Edited: Hayden Fuss\n",
    "\n",
    "# PreProcessor Directives\n",
    "%matplotlib inline\n",
    "import matplotlib\n",
    "import csv\n",
    "import matplotlib.pyplot as plt\n",
    "from wordcloud import WordCloud\n",
    "from scipy.misc import imread\n",
    "import re\n",
    "import os\n",
    "\n",
    "# Function for generating a word cloud of 911 call types\n",
    "def typeWordCloud(file_path, mask_path, bg_color='black', num_words=150,\n",
    "                   input_font_path, out_path='911TypesCloud.png'):\n",
    "    # Read in the txt file set by the main method\n",
    "    text = open(file_path, 'r').read()\n",
    "    # Generate the word cloud based on the input arguments\n",
    "    wc = None\n",
    "    if mask_path:\n",
    "        # Use module to read the image file\n",
    "        inputMask = imread(mask_path)\n",
    "        wc = WordCloud(mask=inputMask, background_color=bg_color, max_words=num_words, \n",
    "                       font_path=input_font_path).generate(text)\n",
    "    else:\n",
    "        wc = WordCloud(font_path=fontpath, max_words=num_words,\n",
    "                       background_color=bg_color).generate(text)\n",
    "    # Open a plot of the generated word cloud\n",
    "    wc.to_file(out_path)\n",
    "    plt.imshow(wc)\n",
    "    plt.axis(\"off\")\n",
    "    plt.show()\n",
    "# End typeWordCloud\n",
    "## We can eventually move this to its own module\n"
   ]
  },
  {
   "cell_type": "markdown",
   "metadata": {},
   "source": [
    "The above function generates a word cloud based on words in the txt file created in the main method.\n",
    "For more info see: https://github.com/amueller/word_cloud"
   ]
  },
  {
   "cell_type": "code",
   "execution_count": null,
   "metadata": {
    "collapsed": false
   },
   "outputs": [],
   "source": [
    "# The main method\n",
    "def main():\n",
    "    # Set the output image file path\n",
    "    current_dir = os.getcwd()\n",
    "    txtFilePath = current_dir + '/OutputTypes.txt'\n",
    "    # Create object for writting to a text file\n",
    "    typeTxtFile = open(txtFilePath, \"w\")\n",
    "    types = {}\n",
    "    \n",
    "    # Request user input of the file name of the data to be processed\n",
    "    inputFile = raw_input(\"Enter csv file name:\")\n",
    "    # Also, request the OS specific font path for the generated word cloud\n",
    "    # Mac and Windows font paths suggested\n",
    "    fontPathInput = raw_input(\"Enter font file path...\\nMac -- /Library/Fonts/Microsoft Sans Serif.ttf\\nWindows -- sans_serif.ttf\\n\")\n",
    "    # Also, request the file path to a mask for the word cloud\n",
    "    maskPathInput = raw_input(\"Enter mask file name...\\nEx: 'mass_map.png'\")\n",
    "      \n",
    "    # Iterate through the 911 csv by type\n",
    "    with open(current_dir + '/../' + inputFile + '.csv') as csvfile:  \n",
    "        typeIt = csv.DictReader(csvfile)\n",
    "        # Retrieve the strings of types\n",
    "        for typeData in typeIt:\n",
    "            typeTxtFile.write(typeData['TYPE'] + '\\n')\n",
    "    # Close the file obj\n",
    "    typeTxtFile.close() \n",
    "    # Use the defined function to create the type word cloud\n",
    "    typeWordCloud(file_path=txtFilePath, mask_path=current_dir + maskPathInput, input_font_path=fontPathInput)\n",
    "# End main\n",
    "\n",
    "# Run the script via the main method\n",
    "if __name__ == \"__main__\":\n",
    "    main()\n",
    "    \n",
    "# End script"
   ]
  },
  {
   "cell_type": "markdown",
   "metadata": {},
   "source": [
    "The method main() begins the script by writting to a master text file all of the types (and their frequencies) found with in the 911 reports csv filesfor the years of 2012 and 2013."
   ]
  }
 ],
 "metadata": {
  "kernelspec": {
   "display_name": "Python 2",
   "language": "python",
   "name": "python2"
  },
  "language_info": {
   "codemirror_mode": {
    "name": "ipython",
    "version": 2
   },
   "file_extension": ".py",
   "mimetype": "text/x-python",
   "name": "python",
   "nbconvert_exporter": "python",
   "pygments_lexer": "ipython2",
   "version": "2.7.9"
  }
 },
 "nbformat": 4,
 "nbformat_minor": 0
}
