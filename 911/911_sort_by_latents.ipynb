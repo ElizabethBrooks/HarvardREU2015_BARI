{
 "cells": [
  {
   "cell_type": "code",
   "execution_count": null,
   "metadata": {
    "collapsed": false
   },
   "outputs": [],
   "source": [
    "#!/usr/bin/python2.7\n",
    "\n",
    "# author: Hayden Fuss, Jeremy McKenzie\n",
    "\n",
    "import csv\n",
    "\n",
    "fields = []\n",
    "\n",
    "medical = []\n",
    "violent = []\n",
    "petty = []\n",
    "unsorted = []\n",
    "\n",
    "def medicalReport(report):\n",
    "    return '1' in report['MajorMed'] or '1' in report['YouthHealth']\n",
    "\n",
    "def pettyReport(report):\n",
    "    return '1' in report['Alcohol'] or '1' in report['SocDis'] or '1' in report['PrivateConflict']\n",
    "    \n",
    "def violentReport(report):\n",
    "    return '1' in report['Violence'] or '1' in report['Guns']\n",
    "\n",
    "with open('2010-14 Full CAD, Jan-Jun 2012.csv') as csvfile:\n",
    "    reports = csv.DictReader(csvfile)\n",
    "    fields = reports.fieldnames\n",
    "    for r in reports:\n",
    "        if medicalReport(r):\n",
    "            medical.append(r)\n",
    "        elif violentReport(r):\n",
    "            violent.append(r)\n",
    "        elif pettyReport(r):\n",
    "            petty.append(r)\n",
    "        else:\n",
    "            unsorted.append(r)\n",
    "            \n",
    "with open('2010-14 Full CAD, Jan-Jun 2013.csv') as csvfile:\n",
    "    reports = csv.DictReader(csvfile)\n",
    "    for r in reports:\n",
    "        if medicalReport(r):\n",
    "            medical.append(r)\n",
    "        elif violentReport(r):\n",
    "            violent.append(r)\n",
    "        elif pettyReport(r):\n",
    "            petty.append(r)\n",
    "        else:\n",
    "            unsorted.append(r)\n",
    "\n",
    "with open('911_medical_2012_2013.csv', 'wb') as csvfile:\n",
    "    writer = csv.DictWriter(csvfile, fieldnames=fields)\n",
    "\n",
    "    writer.writeheader()\n",
    "    for f in medical:\n",
    "        writer.writerow(f)\n",
    "        \n",
    "with open('911_violent_2012_2013.csv', 'wb') as csvfile:\n",
    "    writer = csv.DictWriter(csvfile, fieldnames=fields)\n",
    "\n",
    "    writer.writeheader()\n",
    "    for f in violent:\n",
    "        writer.writerow(f)\n",
    "\n",
    "with open('911_petty_2012_2013.csv', 'wb') as csvfile:\n",
    "    writer = csv.DictWriter(csvfile, fieldnames=fields)\n",
    "\n",
    "    writer.writeheader()\n",
    "    for f in petty:\n",
    "        writer.writerow(f)\n",
    "        \n",
    "with open('911_unsorted_2012_2013.csv', 'wb') as csvfile:\n",
    "    writer = csv.DictWriter(csvfile, fieldnames=fields)\n",
    "\n",
    "    writer.writeheader()\n",
    "    for f in unsorted:\n",
    "        writer.writerow(f)     "
   ]
  },
  {
   "cell_type": "code",
   "execution_count": null,
   "metadata": {
    "collapsed": true
   },
   "outputs": [],
   "source": []
  }
 ],
 "metadata": {
  "kernelspec": {
   "display_name": "Python 2",
   "language": "python",
   "name": "python2"
  },
  "language_info": {
   "codemirror_mode": {
    "name": "ipython",
    "version": 2
   },
   "file_extension": ".py",
   "mimetype": "text/x-python",
   "name": "python",
   "nbconvert_exporter": "python",
   "pygments_lexer": "ipython2",
   "version": "2.7.9"
  }
 },
 "nbformat": 4,
 "nbformat_minor": 0
}
