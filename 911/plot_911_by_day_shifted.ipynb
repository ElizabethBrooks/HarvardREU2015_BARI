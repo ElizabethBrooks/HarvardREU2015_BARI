{
 "cells": [
  {
   "cell_type": "markdown",
   "metadata": {},
   "source": [
    "## Imports for the program (Original program by Josh Lozjim and edited by Hayden Fuss, this version by Jeremy McKenzie)"
   ]
  },
  {
   "cell_type": "code",
   "execution_count": 11,
   "metadata": {
    "collapsed": false
   },
   "outputs": [],
   "source": [
    "%matplotlib inline\n",
    "import matplotlib\n",
    "import time\n",
    "import csv\n",
    "import numpy as np\n",
    "import matplotlib.pyplot as plt\n",
    "import math\n",
    "import sys"
   ]
  },
  {
   "cell_type": "markdown",
   "metadata": {},
   "source": [
    "time_fmt declares the format for the time data\n",
    "year_data declares an empty hash, and the for loop creates further hashes (think: vectors) assigned to the keys of '2012' and '2013'"
   ]
  },
  {
   "cell_type": "code",
   "execution_count": 12,
   "metadata": {
    "collapsed": false
   },
   "outputs": [
    {
     "name": "stdout",
     "output_type": "stream",
     "text": [
      "Enter the file name to read data from: 911_petty_2012_2013.csv\n",
      "911_petty_2012_2013.csv\n",
      "Enter the file name to write data to: petty_911_shift.png\n",
      "petty_911_shift.png\n"
     ]
    }
   ],
   "source": [
    "time_fmt = \"%m/%d/%Y %H:%M\"\n",
    "\n",
    "years = ('2012', '2013')\n",
    "\n",
    "year_data = {}\n",
    "filename = raw_input(\"Enter the file name to read data from: \")\n",
    "#filename = sys.stdin.readline()\n",
    "print filename\n",
    "outputfile = raw_input(\"Enter the file name to write data to: \")\n",
    "#outputfile = sys.stdin.readline()\n",
    "print outputfile\n",
    "filename = filename.rstrip(\"\\n\")\n",
    "outputfile = outputfile.rstrip(\"\\n\")\n",
    "\n",
    "daysWeek = {12:'Fri', 13:'Sat', 14:'Sun', 15:'Mon', 16:'Tue', 17:'Wed', 18:'Thu', 19:'Fri', 20:'Sat', 21:'Sun',\n",
    "            22:'Mon', 23:'Tues'}"
   ]
  },
  {
   "cell_type": "markdown",
   "metadata": {},
   "source": [
    "This portion of the program builds the data list, organized by month, in a list called emergency. It runs through the list, pulling dates from the csv file, and then counts the number of times any particular month (and thereby the amount of calls in that month) comes up. If a month has not previously been encountered, it is added to the list and given a count of one. Otherwise, it's incremented by one."
   ]
  },
  {
   "cell_type": "code",
   "execution_count": 13,
   "metadata": {
    "collapsed": false
   },
   "outputs": [],
   "source": [
    "with open(filename) as csvfile:\n",
    "    nineOne = csv.DictReader(csvfile)\n",
    "        # for all the 911 calls the reader finds\n",
    "    for e in nineOne:\n",
    "        date = time.strptime(e['ENTRY_DT'], time_fmt) # converts string version of date into a date object\n",
    "        if not date.tm_year in year_data.keys():\n",
    "            year_data[date.tm_year] = {}\n",
    "        y = date.tm_year\n",
    "        d = date.tm_mday\n",
    "        if y == 2012:\n",
    "            d -= 1\n",
    "        if date.tm_mon == 4 and d in range (12,23):\n",
    "            if not d in year_data[y].keys():\n",
    "                year_data[y][d] = 1\n",
    "            else:\n",
    "                year_data[y][d] += 1\n",
    "            \"\"\"if not d in year_data[y].keys():\n",
    "                year_data[y][d] = {'AM':0, 'PM':0}\n",
    "            if date.tm_hour < 12:                \n",
    "                year_data[y][d]['AM'] += 1\n",
    "            else:\n",
    "                year_data[y][d]['PM'] += 1\"\"\"\n",
    "\n",
    "for day in year_data[2012].keys():\n",
    "    if not day in year_data[2013].keys():\n",
    "        year_data[2013][day] = 0\n",
    "        \"\"\"for each in ('AM', 'PM'):\n",
    "            year_data[2013][day][each] = 0\"\"\"\n",
    "        \n",
    "for day in year_data[2013].keys():\n",
    "    if not day in year_data[2012].keys():\n",
    "        year_data[2012][day] = 0\n",
    "        \"\"\"for each in ('AM', 'PM'):\n",
    "            year_data[2012][day][each] = 0\"\"\""
   ]
  },
  {
   "cell_type": "markdown",
   "metadata": {},
   "source": [
    "This section adjusts the data to plot-friendly tuples (again, like vectors) while the last line ensures that the bar will not be overrun by the data. It does this by finding the largest humber in either list, divides that by decimal 1000, rounds that up and converts to an integer, and mutiplies that by 1000."
   ]
  },
  {
   "cell_type": "code",
   "execution_count": 14,
   "metadata": {
    "collapsed": false
   },
   "outputs": [],
   "source": [
    "ind=np.arange(len(year_data[2012])) # add in *2 later for AM/PM\n",
    "width=.35\n",
    "\n",
    "tick_labels = []\n",
    "top_labels = []\n",
    "\n",
    "counts_2012 = []\n",
    "\n",
    "for apr_day in sorted(year_data[2012]):\n",
    "    counts_2012.append(year_data[2012][apr_day])\n",
    "    tick_labels.append(daysWeek[apr_day])\n",
    "    top_labels.append(\"4/\" + str(apr_day))\n",
    "    \n",
    "counts_2013 = []\n",
    "\n",
    "for apr_day in sorted(year_data[2013]):\n",
    "    counts_2013.append(year_data[2013][apr_day])\n",
    "\n",
    "maxCount = int(math.ceil(max(counts_2012 + counts_2013) / 100.0)) * 100"
   ]
  },
  {
   "cell_type": "markdown",
   "metadata": {},
   "source": [
    "This is the section that organizes the bar graph itself.\n",
    "The last function puts a label with the exact number on the top of the bar graph"
   ]
  },
  {
   "cell_type": "code",
   "execution_count": 15,
   "metadata": {
    "collapsed": false,
    "scrolled": false
   },
   "outputs": [
    {
     "data": {
      "image/png": "[encoded data removed]",
      "text/plain": [
       "<matplotlib.figure.Figure at 0x106b00950>"
      ]
     },
     "metadata": {},
     "output_type": "display_data"
    }
   ],
   "source": [
    "\n",
    "fig = plt.figure(figsize=(12,8))\n",
    "ax = fig.add_subplot(111)\n",
    "axTop = ax.twiny()\n",
    "\n",
    "rects1 = ax.bar(ind, counts_2012, width, color='r')\n",
    "\n",
    "rects2 = ax.bar(width+ind, counts_2013, width, color='y')\n",
    "\n",
    "ax.set_xlim(-width, len(ind) + width)\n",
    "axTop.set_xlim(-width, len(ind) + width)\n",
    "ax.set_ylim(0, maxCount)\n",
    "ax.set_ylabel('Number of 911 Calls')\n",
    "axTop.set_xlabel('Dates in 2013')\n",
    "ax.set_xlabel('Days of the Week')\n",
    "# ax.set_title('911 Call Volume by half-day (April)')\n",
    "ax.set_xticks(ind+width)\n",
    "axTop.set_xticks(ind+width)\n",
    "\n",
    "tickNames = ax.set_xticklabels(tick_labels)\n",
    "topNames = axTop.set_xticklabels(top_labels)\n",
    "plt.setp(tickNames, rotation=45, fontsize=10)\n",
    "plt.setp(topNames, rotation=45, fontsize=10)\n",
    "\n",
    "ax.legend((rects1[0], rects2[0]), years)\n",
    "\n",
    "def autolabel(rects):\n",
    "# attach some text labels\n",
    "    for rect in rects:\n",
    "        height = rect.get_height()\n",
    "        ax.text(rect.get_x()+rect.get_width()/2., 1.05*height, '%d'%int(height),\n",
    "            ha='center', va='bottom')\n",
    "\n",
    "#autolabel(rects1)\n",
    "#autolabel(rects2)\n",
    "\n",
    "plt.savefig(outputfile, dpi=96)\n",
    "plt.show()"
   ]
  }
 ],
 "metadata": {
  "kernelspec": {
   "display_name": "Python 2",
   "language": "python",
   "name": "python2"
  },
  "language_info": {
   "codemirror_mode": {
    "name": "ipython",
    "version": 2
   },
   "file_extension": ".py",
   "mimetype": "text/x-python",
   "name": "python",
   "nbconvert_exporter": "python",
   "pygments_lexer": "ipython2",
   "version": "2.7.9"
  }
 },
 "nbformat": 4,
 "nbformat_minor": 0
}
