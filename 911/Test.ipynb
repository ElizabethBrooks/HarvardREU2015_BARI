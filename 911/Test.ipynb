{
 "cells": [
  {
   "cell_type": "code",
   "execution_count": 16,
   "metadata": {
    "collapsed": false
   },
   "outputs": [
    {
     "name": "stdout",
     "output_type": "stream",
     "text": [
      "1\t2\t3\t4\t5\t6\t7\t8\t9\t10\n",
      "11\t12\t13\t14\t15\t16\t17\t18\t19\t20\n",
      "21\t22\t23\t24\t25\t26\t27\t28\t29\t30\n",
      "31\t32\t33\t34\t35\t36\t37\t38\t39\t40\n",
      "41\t42\t43\t44\t45\t46\t47\t48\t49\t50\n",
      "51\t52\t53\t54\t55\t56\t57\t58\t59\t60\n",
      "61\t62\t63\t64\t65\t66\t67\t68\t69\t70\n",
      "71\t72\t73\t74\t75\t76\t77\t78\t79\t80\n",
      "81\t82\t83\t84\t85\t86\t87\t88\t89\t90\n",
      "91\t92\t93\t94\t95\t96\t97\t98\t99\t100\n"
     ]
    }
   ],
   "source": [
    "import sys\n",
    "\n",
    "for x in range (1, 101):\n",
    "    if (x % 10) != 0:\n",
    "        sys.stdout.write(str(x) + '\\t')\n",
    "    else: \n",
    "        sys.stdout.write(str(x) + '\\n')"
   ]
  },
  {
   "cell_type": "markdown",
   "metadata": {},
   "source": [
    "This is a test of the emergency broadcast system. This is only a test."
   ]
  }
 ],
 "metadata": {
  "kernelspec": {
   "display_name": "Python 2",
   "language": "python",
   "name": "python2"
  },
  "language_info": {
   "codemirror_mode": {
    "name": "ipython",
    "version": 2
   },
   "file_extension": ".py",
   "mimetype": "text/x-python",
   "name": "python",
   "nbconvert_exporter": "python",
   "pygments_lexer": "ipython2",
   "version": "2.7.9"
  }
 },
 "nbformat": 4,
 "nbformat_minor": 0
}
