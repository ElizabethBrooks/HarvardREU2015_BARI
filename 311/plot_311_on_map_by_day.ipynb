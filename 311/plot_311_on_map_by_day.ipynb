{
 "cells": [
  {
   "cell_type": "markdown",
   "metadata": {},
   "source": [
    "Imports for the program (Original program by Josh Lozjim and edited by Hayden Fuss, this version by Jeremy McKenzie)"
   ]
  },
  {
   "cell_type": "code",
   "execution_count": 16,
   "metadata": {
    "collapsed": true
   },
   "outputs": [],
   "source": [
    "%matplotlib inline\n",
    "import matplotlib\n",
    "import time                      # time/date parsing\n",
    "import csv                       # data parsing\n",
    "import numpy as np               # arrays for plotting\n",
    "import matplotlib.pyplot as plt  # Plotting\n",
    "import math                      # ceiling for y-max in plots\n",
    "import sys\n",
    "\n",
    "import os\n",
    "sys.path.append(os.path.realpath('../census'))\n",
    "import bostonmap as bm"
   ]
  },
  {
   "cell_type": "markdown",
   "metadata": {},
   "source": [
    "time_fmt declares the format for the time data\n",
    "year_data declares an empty hash, and the for loop creates further hashes (think: vectors) assigned to the keys of '2012' and '2013'"
   ]
  },
  {
   "cell_type": "code",
   "execution_count": 17,
   "metadata": {
    "collapsed": false,
    "scrolled": true
   },
   "outputs": [
    {
     "name": "stdout",
     "output_type": "stream",
     "text": [
      "Enter the file name to read data from: 311_private_2012_2013.csv\n",
      "311_private_2012_2013.csv\n",
      "Enter the file name to write data to: 311_priv_shift.png\n",
      "311_priv_shift.png\n",
      "Enter prefix for maps: priv\n"
     ]
    }
   ],
   "source": [
    "time_fmt = \"%m/%d/%Y\"\n",
    "\n",
    "years = ('2012', '2013')\n",
    "\n",
    "year_data = {}\n",
    "filename = raw_input(\"Enter the file name to read data from: \")\n",
    "#filename = sys.stdin.readline()\n",
    "print filename\n",
    "filename = filename.rstrip(\"\\n\")\n",
    "prefix = raw_input(\"Enter prefix for maps: \")\n",
    "prefix = prefix.rstrip(\"\\n\")\n"
   ]
  },
  {
   "cell_type": "markdown",
   "metadata": {},
   "source": [
    "This portion of the program builds the data list, organized by month, in a list called emergency. It runs through the list, pulling dates from the csv file, and then counts the number of times any particular month (and thereby the amount of calls in that month) comes up. If a month has not previously been encountered, it is added to the list and given a count of one. Otherwise, it's incremented by one."
   ]
  },
  {
   "cell_type": "code",
   "execution_count": 18,
   "metadata": {
    "collapsed": false
   },
   "outputs": [],
   "source": [
    "reports = {}\n",
    "currentDay = 12\n",
    "\n",
    "with open(filename) as csvfile:\n",
    "    threeOne = csv.DictReader(csvfile)\n",
    "        # for all the 311 calls the reader finds\n",
    "    for e in threeOne:\n",
    "        date = time.strptime(e['OPEN_DT'], time_fmt) # converts string version of date into a date object\n",
    "        y = date.tm_year\n",
    "        d = date.tm_mday\n",
    "        if not y in year_data.keys():\n",
    "            year_data[y] = {}\n",
    "        if y == 2013 and date.tm_mon == 4 and d in range (12,23):\n",
    "            e['lon'] = e['X']\n",
    "            e['lat'] = e['Y']\n",
    "            if e['lat'] != 'NA':\n",
    "                if d == currentDay:\n",
    "                    reports.append(e)\n",
    "                elif d == currentDay + 1:\n",
    "                    currentDay += 1\n",
    "                    boston = bm.BostonScatter(reports)\n",
    "                    boston.plotMap(outname=prefix + '_bombday_scatter_311_' + str(currentDay-1),\n",
    "                        title='Locations of 311 Reports on 4-' + str(currentDay-1) + '-13')\n",
    "                    boston = bm.BostonDensity(reports)\n",
    "                    boston.plotMap(outname=prefix + '_bombday_density_311_' + str(currentDay-1),\n",
    "                        title='Locations of 311 Reports in 4-' + str(currentDay-1) + '-13')\n",
    "                    reports = [e]  # clears list of previous day and adds first of this day\n",
    "                    \n",
    "currentDay += 1                    \n",
    "boston = bm.BostonScatter(reports)\n",
    "boston.plotMap(outname=prefix + '_bombday_scatter_311_' + str(currentDay-1),\n",
    "    title='Locations of 311 Reports on 4-' + str(currentDay-1) + '-13')\n",
    "boston = bm.BostonDensity(reports)\n",
    "boston.plotMap(outname=prefix + '_bombday_density_311_' + str(currentDay-1),\n",
    "    title='Locations of 311 Reports in 4-' + str(currentDay-1) + '-13')"
   ]
  }
 ],
 "metadata": {
  "kernelspec": {
   "display_name": "Python 2",
   "language": "python",
   "name": "python2"
  },
  "language_info": {
   "codemirror_mode": {
    "name": "ipython",
    "version": 2
   },
   "file_extension": ".py",
   "mimetype": "text/x-python",
   "name": "python",
   "nbconvert_exporter": "python",
   "pygments_lexer": "ipython2",
   "version": "2.7.9"
  }
 },
 "nbformat": 4,
 "nbformat_minor": 0
}
