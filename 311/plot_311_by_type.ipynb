{
 "cells": [
  {
   "cell_type": "markdown",
   "metadata": {},
   "source": [
    "## Imports for the program (Original program by Josh Lozjim and edited by Hayden Fuss, this version by Jeremy McKenzie)"
   ]
  },
  {
   "cell_type": "code",
   "execution_count": 19,
   "metadata": {
    "collapsed": true
   },
   "outputs": [],
   "source": [
    "%matplotlib inline\n",
    "import matplotlib\n",
    "import time\n",
    "import csv\n",
    "import numpy as np\n",
    "import matplotlib.pyplot as plt\n",
    "import math\n",
    "import sys"
   ]
  },
  {
   "cell_type": "markdown",
   "metadata": {},
   "source": [
    "time_fmt declares the format for the time data\n",
    "year_data declares an empty hash, and the for loop creates further hashes (think: vectors) assigned to the keys of '2012' and '2013'"
   ]
  },
  {
   "cell_type": "code",
   "execution_count": 20,
   "metadata": {
    "collapsed": false
   },
   "outputs": [
    {
     "name": "stdout",
     "output_type": "stream",
     "text": [
      "Enter the file name to read data from: 311_other_2012_2013.csv\n",
      "311_other_2012_2013.csv\n",
      "Enter the file name to write data to: \n",
      "\n"
     ]
    }
   ],
   "source": [
    "time_fmt = \"%m/%d/%Y\"\n",
    "\n",
    "years = ('2012', '2013')\n",
    "\n",
    "year_data = {}\n",
    "filename = raw_input(\"Enter the file name to read data from: \")\n",
    "#filename = sys.stdin.readline()\n",
    "print filename\n",
    "outputfile = raw_input(\"Enter the file name to write data to: \")\n",
    "#outputfile = sys.stdin.readline()\n",
    "print outputfile\n",
    "filename = filename.rstrip(\"\\n\")\n",
    "outputfile = outputfile.rstrip(\"\\n\")"
   ]
  },
  {
   "cell_type": "markdown",
   "metadata": {},
   "source": [
    "This portion of the program builds the data list, organized by month, in a list called emergency. It runs through the list, pulling dates from the csv file, and then counts the number of times any particular month (and thereby the amount of calls in that month) comes up. If a month has not previously been encountered, it is added to the list and given a count of one. Otherwise, it's incremented by one."
   ]
  },
  {
   "cell_type": "code",
   "execution_count": 21,
   "metadata": {
    "collapsed": false
   },
   "outputs": [
    {
     "name": "stdout",
     "output_type": "stream",
     "text": [
      "General Request,60034\n",
      "Schedule a Bulk Item Pickup,41876\n",
      "Pothole Repair (Internal),13712\n",
      "Request for Recycling Cart,7737\n",
      "Schedule a Bulk Item Pickup SS,5517\n",
      "General Comments For a Program or Policy,4710\n",
      "Sticker Request,3946\n",
      "Notification,3864\n",
      "Recycling Cart Return,2467\n",
      "Sidewalk Repair (Internal),1840\n",
      "General Transportation Issues,1515\n",
      "Major System Failure,1431\n",
      "General Comments For An Employee,1395\n",
      "Work w/out Permit,1333\n",
      "Utility Call-In,1331\n",
      "Base Repair (Internal),1287\n",
      "Unsafe Dangerous Conditions,1228\n",
      "Public Works General Request,1206\n",
      "Contractor Complaints,1100\n",
      "Street Light Outages (Internal),1068\n",
      "BWSC General Request,739\n",
      "Metrolist Survey,716\n",
      "Electrical,710\n",
      "Unsanitary Conditions - Establishment,710\n",
      "Request for Snow Plowing (Emergency Responder),588\n"
     ]
    },
    {
     "data": {
      "text/plain": [
       "'\\nfor day in year_data[2012].keys():\\n    if not day in year_data[2013].keys():\\n        year_data[2013][day] = 0\\n        \\nfor day in year_data[2013].keys():\\n    if not day in year_data[2012].keys():\\n        year_data[2012][day] = 0'"
      ]
     },
     "execution_count": 21,
     "metadata": {},
     "output_type": "execute_result"
    }
   ],
   "source": [
    "\n",
    "with open(filename) as csvfile:\n",
    "    threeOne = csv.DictReader(csvfile)\n",
    "        # for all the 311 calls the reader finds\n",
    "    types = {}\n",
    "    for e in threeOne:\n",
    "        if not e['TYPE'] in types.keys():\n",
    "            types[e['TYPE']] = 1\n",
    "        else:\n",
    "            types[e['TYPE']] += 1\n",
    "    for t in sorted(types, key=types.get, reverse=True)[0:25]:\n",
    "        print t + \",\" + str(types[t])\n",
    "        \"\"\"date = time.strptime(e['OPEN_DT'], time_fmt) # converts string version of date into a date object\n",
    "        if not date.tm_year in year_data.keys():\n",
    "            year_data[date.tm_year] = {}\n",
    "        y = date.tm_year\n",
    "        if date.tm_mon == 4 and date.tm_mday in range (12,23):\n",
    "            if not date.tm_mday in year_data[y].keys():\n",
    "                year_data[y][date.tm_mday] = 1\n",
    "            else:\n",
    "                year_data[y][date.tm_mday] += 1\"\"\"\n",
    "\"\"\"\n",
    "for day in year_data[2012].keys():\n",
    "    if not day in year_data[2013].keys():\n",
    "        year_data[2013][day] = 0\n",
    "        \n",
    "for day in year_data[2013].keys():\n",
    "    if not day in year_data[2012].keys():\n",
    "        year_data[2012][day] = 0\"\"\""
   ]
  },
  {
   "cell_type": "markdown",
   "metadata": {},
   "source": [
    "This section adjusts the data to plot-friendly tuples (again, like vectors) while the last line ensures that the bar will not be overrun by the data. It does this by finding the largest humber in either list, divides that by decimal 1000, rounds that up and converts to an integer, and mutiplies that by 1000."
   ]
  },
  {
   "cell_type": "markdown",
   "metadata": {
    "collapsed": true
   },
   "source": [
    "ind=np.arange(len(year_data[2012]))\n",
    "width=.35\n",
    "\n",
    "tick_labels = []\n",
    "\n",
    "counts_2012 = []\n",
    "\n",
    "for apr_day in sorted(year_data[2012]):\n",
    "    counts_2012.append(year_data[2012][apr_day])\n",
    "    tick_labels.append(\"4/\" + str(apr_day))\n",
    "    \n",
    "counts_2013 = []\n",
    "\n",
    "for apr_day in sorted(year_data[2013]):\n",
    "    counts_2013.append(year_data[2013][apr_day])\n",
    "\n",
    "maxCount = int(math.ceil(max(counts_2012 + counts_2013) / 100.0)) * 100"
   ]
  },
  {
   "cell_type": "markdown",
   "metadata": {},
   "source": [
    "This is the section that organizes the bar graph itself.\n",
    "The last function puts a label with the exact number on the top of the bar graph"
   ]
  },
  {
   "cell_type": "markdown",
   "metadata": {
    "collapsed": false,
    "scrolled": true
   },
   "source": [
    "\n",
    "fig = plt.figure(figsize=(12,8))\n",
    "ax = fig.add_subplot(111)\n",
    "\n",
    "rects1 = ax.bar(ind, counts_2012, width, color='b')\n",
    "\n",
    "rects2 = ax.bar(width+ind, counts_2013, width, color='m')\n",
    "\n",
    "ax.set_xlim(-width, len(ind) + width)\n",
    "ax.set_ylim(0, maxCount)\n",
    "ax.set_ylabel('Number of 311 Calls')\n",
    "ax.set_title('311 Call Volume per Day (April)')\n",
    "ax.set_xticks(ind+width)\n",
    "\n",
    "tickNames = ax.set_xticklabels(tick_labels)\n",
    "plt.setp(tickNames, rotation=45, fontsize=10)\n",
    "\n",
    "ax.legend((rects1[0], rects2[0]), years)\n",
    "\n",
    "def autolabel(rects):\n",
    "# attach some text labels\n",
    "    for rect in rects:\n",
    "        height = rect.get_height()\n",
    "        ax.text(rect.get_x()+rect.get_width()/2., 1.05*height, '%d'%int(height),\n",
    "            ha='center', va='bottom')\n",
    "\n",
    "#autolabel(rects1)\n",
    "#autolabel(rects2)\n",
    "\n",
    "plt.savefig(outputfile, dpi=96)\n",
    "plt.show()"
   ]
  }
 ],
 "metadata": {
  "kernelspec": {
   "display_name": "Python 2",
   "language": "python",
   "name": "python2"
  },
  "language_info": {
   "codemirror_mode": {
    "name": "ipython",
    "version": 2
   },
   "file_extension": ".py",
   "mimetype": "text/x-python",
   "name": "python",
   "nbconvert_exporter": "python",
   "pygments_lexer": "ipython2",
   "version": "2.7.9"
  }
 },
 "nbformat": 4,
 "nbformat_minor": 0
}
