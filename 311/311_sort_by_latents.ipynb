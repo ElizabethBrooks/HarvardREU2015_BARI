{
 "cells": [
  {
   "cell_type": "code",
   "execution_count": 6,
   "metadata": {
    "collapsed": false
   },
   "outputs": [],
   "source": [
    "#!/usr/bin/python2.7\n",
    "\n",
    "# author: Hayden Fuss, Jeremy McKenzie\n",
    "\n",
    "import csv\n",
    "\n",
    "fields = []\n",
    "\n",
    "pub = []\n",
    "priv = []\n",
    "other = []\n",
    "\n",
    "def publicReport(report):\n",
    "    return '1' in report['Public'] or '1' in report['Trash'] or '1' in report['Graffiti'] or '1' in report['PublicDenig']\n",
    "    \n",
    "def privateReport(report):\n",
    "    return '1' in report['Housing'] or '1' in report['PrivateNeglect'] or '1' in report['UncivilUse'] or '1' in report['BigBuild']\n",
    "\n",
    "with open('CRM_2012_2013_no_ids.csv') as csvfile:\n",
    "    reports = csv.DictReader(csvfile)\n",
    "    fields = reports.fieldnames\n",
    "    for r in reports:\n",
    "        if publicReport(r):\n",
    "            pub.append(r)\n",
    "        elif privateReport(r):\n",
    "              priv.append(r)\n",
    "        else:\n",
    "            other.append(r)\n",
    "\n",
    "with open('311_public_2012_2013.csv', 'wb') as csvfile:\n",
    "    writer = csv.DictWriter(csvfile, fieldnames=fields)\n",
    "\n",
    "    writer.writeheader()\n",
    "    for f in pub:\n",
    "        writer.writerow(f)\n",
    "        \n",
    "with open('311_private_2012_2013.csv', 'wb') as csvfile:\n",
    "    writer = csv.DictWriter(csvfile, fieldnames=fields)\n",
    "\n",
    "    writer.writeheader()\n",
    "    for f in priv:\n",
    "        writer.writerow(f)\n",
    "\n",
    "with open('311_other_2012_2013.csv', 'wb') as csvfile:\n",
    "    writer = csv.DictWriter(csvfile, fieldnames=fields)\n",
    "\n",
    "    writer.writeheader()\n",
    "    for f in other:\n",
    "        writer.writerow(f)"
   ]
  },
  {
   "cell_type": "code",
   "execution_count": null,
   "metadata": {
    "collapsed": true
   },
   "outputs": [],
   "source": []
  }
 ],
 "metadata": {
  "kernelspec": {
   "display_name": "Python 2",
   "language": "python",
   "name": "python2"
  },
  "language_info": {
   "codemirror_mode": {
    "name": "ipython",
    "version": 2
   },
   "file_extension": ".py",
   "mimetype": "text/x-python",
   "name": "python",
   "nbconvert_exporter": "python",
   "pygments_lexer": "ipython2",
   "version": "2.7.9"
  }
 },
 "nbformat": 4,
 "nbformat_minor": 0
}
